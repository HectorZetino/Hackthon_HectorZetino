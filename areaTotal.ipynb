{
 "cells": [
  {
   "attachments": {},
   "cell_type": "markdown",
   "metadata": {},
   "source": [
    "# Problema No. 1 AREA TOTAL"
   ]
  },
  {
   "attachments": {},
   "cell_type": "markdown",
   "metadata": {},
   "source": [
    "Cada rec, 4 num enteros (x0,y0,x1,y1) (x0,y0) es esquina inferior izquierda (x1,y1) superior derecha)\n",
    "\n"
   ]
  },
  {
   "cell_type": "code",
   "execution_count": 58,
   "metadata": {},
   "outputs": [
    {
     "name": "stdout",
     "output_type": "stream",
     "text": [
      "El area es : 36\n"
     ]
    }
   ],
   "source": [
    "\n",
    "archivo = open(\"data.txt\")\n",
    "data = archivo.read()\n",
    "\n",
    "values = data.split(\"\\n\")\n",
    "\n",
    "arr0 = values[0].split(\",\")\n",
    "arr1 = values[1].split(\",\")\n",
    "arr2 = values[2].split(\",\")\n",
    "\n",
    "\n",
    "for i in range(0, len(arr0)):\n",
    "    arr0[i] = int(arr0[i])\n",
    "\n",
    "for i in range(0, len(arr1)):\n",
    "    arr1[i] = int(arr1[i])\n",
    "    \n",
    "for i in range(0, len(arr2)):\n",
    "    arr2[i] = int(arr2[i])\n",
    "    \n",
    "\n",
    "\n",
    "\n",
    "arreglo = [arr0[0],arr0[1],arr0[2],arr0[3],arr1[0],arr1[1],arr1[2],arr1[3],arr2[0],arr2[1],arr2[2],arr2[3]]\n",
    "arreglo2 = [arr1[0],arr1[1],arr1[2],arr1[3]]\n",
    "arreglo3 = [arr2[0],arr2[1],arr2[2],arr2[3]]\n",
    "\n",
    "\n",
    "if arreglo[0] == arreglo[4]:\n",
    "    #print('igual')\n",
    "    base1 = arreglo[0] \n",
    "\n",
    "\n",
    "if arreglo[1] == arreglo[5]:\n",
    "    #print('igual')\n",
    "    base2 = arreglo[4] # 6\n",
    "    altura2 = arreglo[6] # 8\n",
    "\n",
    "    \n",
    "if arreglo[2] == arreglo[6]:\n",
    "    #\n",
    "    # print('igual')\n",
    "    base3 = arreglo[5] #3 \n",
    "    altura3 = arreglo[3] #5\n",
    "\n",
    "\n",
    "\n",
    "\n",
    "\n",
    "area = (arreglo[0] - arreglo[2]) * (arreglo[1] - arreglo[3])\n",
    "area2 = (arreglo2[0] - arreglo2[2]) * (arreglo2[1] - arreglo2[3])\n",
    "area3 = (arreglo3[0] - arreglo3[2]) * (arreglo3[1] - arreglo3[3])\n",
    "areaTotal = area + area2 + area3 - ((base2 - altura2) * (base3 - altura3))\n",
    "print(\"El area es : \" + str(areaTotal))\n"
   ]
  },
  {
   "cell_type": "code",
   "execution_count": null,
   "metadata": {},
   "outputs": [],
   "source": []
  }
 ],
 "metadata": {
  "kernelspec": {
   "display_name": "Python 3",
   "language": "python",
   "name": "python3"
  },
  "language_info": {
   "codemirror_mode": {
    "name": "ipython",
    "version": 3
   },
   "file_extension": ".py",
   "mimetype": "text/x-python",
   "name": "python",
   "nbconvert_exporter": "python",
   "pygments_lexer": "ipython3",
   "version": "3.10.11"
  },
  "orig_nbformat": 4
 },
 "nbformat": 4,
 "nbformat_minor": 2
}
